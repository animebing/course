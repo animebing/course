{
 "cells": [
  {
   "cell_type": "code",
   "execution_count": 21,
   "metadata": {
    "collapsed": false
   },
   "outputs": [
    {
     "name": "stdout",
     "output_type": "stream",
     "text": [
      "X_train: (50000, 32, 32, 3)\n",
      "y_train: (50000,)\n",
      "X_test: (10000, 32, 32, 3)\n",
      "y_test: (10000,)\n"
     ]
    }
   ],
   "source": [
    "from __future__ import print_function, division\n",
    "from data_utils import load_CIFAR10\n",
    "\n",
    "X_train, y_train, X_test, y_test = load_CIFAR10(\"cifar-10-batches-py\")\n",
    "\n",
    "print(\"X_train:\", X_train.shape)\n",
    "print(\"y_train:\", y_train.shape)\n",
    "print(\"X_test:\", X_test.shape)\n",
    "print(\"y_test:\", y_test.shape)"
   ]
  },
  {
   "cell_type": "code",
   "execution_count": 18,
   "metadata": {
    "collapsed": false
   },
   "outputs": [
    {
     "name": "stdout",
     "output_type": "stream",
     "text": [
      "(50000, 128)\n",
      "(10000, 128)\n"
     ]
    }
   ],
   "source": [
    "\"\"\"\n",
    "from skimage.feature import local_binary_pattern\n",
    "from skimage import color\n",
    "import numpy as np\n",
    "radius = 3\n",
    "n_points = 8 * radius\n",
    "METHOD = 'uniform'\n",
    "lbp_train = []\n",
    "pixel = 8\n",
    "bins = 8\n",
    "for i in xrange(X_train.shape[0]):\n",
    "    gray_img = color.rgb2gray(X_train[i])\n",
    "    lbp = []\n",
    "    for c in xrange(0, 32, pixel):\n",
    "        if c+pixel > 32:\n",
    "            continue\n",
    "        for r in xrange(0, 32, pixel):\n",
    "            if r+pixel > 32:\n",
    "                continue;\n",
    "            cell = gray_img[c:c+pixel, r:r+pixel]\n",
    "            tmp_lbp = local_binary_pattern(cell, n_points, radius, METHOD)\n",
    "            h, _ = np.histogram(tmp_lbp.ravel(),bins)\n",
    "            h = h / h.sum()\n",
    "            lbp.append(h)\n",
    "    lbp = np.concatenate(lbp, axis=0)\n",
    "    lbp = lbp[np.newaxis, :]\n",
    "    lbp_train.append(lbp)\n",
    "\n",
    "lbp_train = np.concatenate(lbp_train, axis=0)\n",
    "print(lbp_train.shape)\n",
    "\n",
    "lbp_test = []\n",
    "for i in xrange(X_test.shape[0]):\n",
    "    gray_img = color.rgb2gray(X_test[i])\n",
    "    lbp = []\n",
    "    for c in xrange(0, 32, pixel):\n",
    "        if c+pixel > 32:\n",
    "            continue\n",
    "        for r in xrange(0, 32, pixel):\n",
    "            if r+pixel > 32:\n",
    "                continue;\n",
    "            cell = gray_img[c:c+pixel, r:r+pixel]\n",
    "            tmp_lbp = local_binary_pattern(cell, n_points, radius, METHOD)\n",
    "            h, _ = np.histogram(tmp_lbp.ravel(),bins)\n",
    "            h = h / h.sum()\n",
    "            lbp.append(h)\n",
    "    lbp = np.concatenate(lbp, axis=0)\n",
    "    lbp = lbp[np.newaxis, :]\n",
    "    lbp_test.append(lbp)\n",
    "\n",
    "lbp_test = np.concatenate(lbp_test, axis=0)\n",
    "print(lbp_test.shape)\n",
    "\"\"\""
   ]
  },
  {
   "cell_type": "code",
   "execution_count": 22,
   "metadata": {
    "collapsed": false
   },
   "outputs": [
    {
     "name": "stdout",
     "output_type": "stream",
     "text": [
      "(50000, 26)\n",
      "(10000, 26)\n"
     ]
    }
   ],
   "source": [
    "from skimage.feature import local_binary_pattern\n",
    "from skimage import color\n",
    "import numpy as np\n",
    "\n",
    "radius = 3\n",
    "n_points = 8 * radius\n",
    "METHOD = 'uniform'\n",
    "eps = 1e-7\n",
    "\n",
    "lbp_train = []\n",
    "for i in xrange(X_train.shape[0]):\n",
    "    gray_img = color.rgb2gray(X_train[i])\n",
    "    lbp = local_binary_pattern(gray_img, n_points, radius, METHOD)\n",
    "    h, _ = np.histogram(lbp.ravel(),bins=np.arange(0, n_points+3), range=(0, n_points+2))\n",
    "    h = h / (h.sum()+eps)\n",
    "    h = h[np.newaxis, :]\n",
    "    lbp_train.append(h)\n",
    "    \n",
    "\n",
    "lbp_train = np.concatenate(lbp_train, axis=0)\n",
    "print(lbp_train.shape)\n",
    "\n",
    "lbp_test = []\n",
    "for i in xrange(X_test.shape[0]):\n",
    "    gray_img = color.rgb2gray(X_test[i])\n",
    "    lbp = local_binary_pattern(gray_img, n_points, radius, METHOD)\n",
    "    h, _ = np.histogram(lbp.ravel(),bins=np.arange(0, n_points+3), range=(0, n_points+2))\n",
    "    h = h / (h.sum()+eps)\n",
    "    h = h[np.newaxis, :]\n",
    "    lbp_test.append(h)\n",
    "\n",
    "lbp_test = np.concatenate(lbp_test, axis=0)\n",
    "print(lbp_test.shape)   "
   ]
  },
  {
   "cell_type": "code",
   "execution_count": 23,
   "metadata": {
    "collapsed": false
   },
   "outputs": [
    {
     "name": "stdout",
     "output_type": "stream",
     "text": [
      "K: 1\n",
      "time for prediction: 5 seconds\n",
      "accuracy:  0.1888\n",
      "K: 5\n",
      "time for prediction: 6 seconds\n",
      "accuracy:  0.213\n",
      "K: 20\n",
      "time for prediction: 7 seconds\n",
      "accuracy:  0.2436\n",
      "K: 50\n",
      "time for prediction: 8 seconds\n",
      "accuracy:  0.2607\n",
      "K: 100\n",
      "time for prediction: 9 seconds\n",
      "accuracy:  0.2692\n",
      "[ 0.1888  0.213   0.2436  0.2607  0.2692]\n"
     ]
    }
   ],
   "source": [
    "from sklearn import neighbors\n",
    "import time \n",
    "\n",
    "X_train = lbp_train\n",
    "X_test = lbp_test\n",
    "\n",
    "group_K = [1, 5, 20, 50, 100]\n",
    "acc = np.zeros((len(group_K),))\n",
    "for i in xrange(len(group_K)):\n",
    "    print(\"K: %d\" %(group_K[i]))\n",
    "    clf = neighbors.KNeighborsClassifier(group_K[i], n_jobs=-1)\n",
    "    clf.fit(X_train, y_train)\n",
    "    tic = time.time()\n",
    "    preds = clf.predict(X_test)\n",
    "    toc = time.time()\n",
    "    print(\"time for prediction: %d seconds\" %(toc-tic))\n",
    "\n",
    "    acc[i] = (preds==y_test).mean()\n",
    "    print(\"accuracy: \", acc[i])\n",
    "\n",
    "print(acc)"
   ]
  },
  {
   "cell_type": "code",
   "execution_count": null,
   "metadata": {
    "collapsed": true
   },
   "outputs": [],
   "source": [
    "clf = neighbors.KNeighborsClassifier(200, n_jobs=-1)\n",
    "clf.fit(X_train, y_train)\n",
    "tic = time.time()\n",
    "preds = clf.predict(X_test)\n",
    "toc = time.time()\n",
    "print(\"time for prediction: %d seconds\" %(toc-tic))\n",
    "\n",
    "acc = (preds==y_test).mean()\n",
    "print(\"accuracy: \", acc)\n"
   ]
  },
  {
   "cell_type": "code",
   "execution_count": 20,
   "metadata": {
    "collapsed": false
   },
   "outputs": [
    {
     "name": "stdout",
     "output_type": "stream",
     "text": [
      "time for training: 18 seconds\n",
      "time for prediction: 0 seconds\n",
      "accuracy:  0.2541\n"
     ]
    }
   ],
   "source": [
    "from sklearn import linear_model\n",
    "\n",
    "tic = time.time()\n",
    "lin_reg = linear_model.LogisticRegression(multi_class='multinomial', n_jobs=-1, solver='sag', max_iter=500)\n",
    "lin_reg.fit(X_train, y_train)\n",
    "toc_1 = time.time()\n",
    "print(\"time for training: %d seconds\" %(toc_1-tic))\n",
    "\n",
    "preds = lin_reg.predict(X_test)\n",
    "toc_2 = time.time()\n",
    "print(\"time for prediction: %d seconds\" %(toc_2-toc_1))\n",
    "\n",
    "acc = (preds==y_test).mean()\n",
    "print(\"accuracy: \", acc)"
   ]
  },
  {
   "cell_type": "code",
   "execution_count": null,
   "metadata": {
    "collapsed": true
   },
   "outputs": [],
   "source": []
  }
 ],
 "metadata": {
  "kernelspec": {
   "display_name": "Python 2",
   "language": "python",
   "name": "python2"
  },
  "language_info": {
   "codemirror_mode": {
    "name": "ipython",
    "version": 2
   },
   "file_extension": ".py",
   "mimetype": "text/x-python",
   "name": "python",
   "nbconvert_exporter": "python",
   "pygments_lexer": "ipython2",
   "version": "2.7.12"
  }
 },
 "nbformat": 4,
 "nbformat_minor": 1
}
