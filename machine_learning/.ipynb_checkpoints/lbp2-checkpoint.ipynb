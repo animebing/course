{
 "cells": [
  {
   "cell_type": "code",
   "execution_count": 1,
   "metadata": {
    "collapsed": false
   },
   "outputs": [
    {
     "name": "stdout",
     "output_type": "stream",
     "text": [
      "X_train: (50000, 32, 32, 3)\n",
      "y_train: (50000,)\n",
      "X_test: (10000, 32, 32, 3)\n",
      "y_test: (10000,)\n"
     ]
    }
   ],
   "source": [
    "from __future__ import print_function, division\n",
    "from data_utils import load_CIFAR10\n",
    "\n",
    "X_train, y_train, X_test, y_test = load_CIFAR10(\"cifar-10-batches-py\")\n",
    "\n",
    "print(\"X_train:\", X_train.shape)\n",
    "print(\"y_train:\", y_train.shape)\n",
    "print(\"X_test:\", X_test.shape)\n",
    "print(\"y_test:\", y_test.shape)"
   ]
  },
  {
   "cell_type": "code",
   "execution_count": 2,
   "metadata": {
    "collapsed": false
   },
   "outputs": [
    {
     "name": "stdout",
     "output_type": "stream",
     "text": [
      "lbp  [[  3.   1.   2. ...,   2.   0.   0.]\n",
      " [  3.   0.   3. ...,   0.   0.   6.]\n",
      " [  3.   3.   3. ...,   2.   1.   5.]\n",
      " ..., \n",
      " [  0.   0.   0. ...,   2.   1.   1.]\n",
      " [  3.   5.  25. ...,  25.   2.   2.]\n",
      " [  5.   8.  10. ...,   9.   8.   7.]]\n",
      "(50000, 26)\n",
      "(10000, 26)\n"
     ]
    }
   ],
   "source": [
    "from skimage.feature import local_binary_pattern\n",
    "from skimage import color\n",
    "import numpy as np\n",
    "\n",
    "radius = 3\n",
    "n_points = 8 * radius\n",
    "METHOD = 'uniform'\n",
    "eps = 1e-7\n",
    "\n",
    "lbp_train = []\n",
    "for i in xrange(X_train.shape[0]):\n",
    "    gray_img = color.rgb2gray(X_train[i])\n",
    "    lbp = local_binary_pattern(gray_img, n_points, radius, METHOD)\n",
    "    h, _ = np.histogram(lbp.ravel(),bins=np.arange(0, n_points+3), range=(0, n_points+2),normed=True)\n",
    "    h = h / (h.sum()+eps)\n",
    "    h = h[np.newaxis, :]\n",
    "    lbp_train.append(h)\n",
    "    \n",
    "lbp_train = np.concatenate(lbp_train, axis=0)\n",
    "print(lbp_train.shape)\n",
    "\n",
    "lbp_test = []\n",
    "for i in xrange(X_test.shape[0]):\n",
    "    gray_img = color.rgb2gray(X_test[i])\n",
    "    lbp = local_binary_pattern(gray_img, n_points, radius, METHOD)\n",
    "    h, _ = np.histogram(lbp.ravel(),bins=np.arange(0, n_points+3), range=(0, n_points+2),normed=True)\n",
    "    h = h / (h.sum()+eps)\n",
    "    h = h[np.newaxis, :]\n",
    "    lbp_test.append(h)\n",
    "\n",
    "lbp_test = np.concatenate(lbp_test, axis=0)\n",
    "print(lbp_test.shape)  "
   ]
  },
  {
   "cell_type": "code",
   "execution_count": 4,
   "metadata": {
    "collapsed": false
   },
   "outputs": [
    {
     "name": "stdout",
     "output_type": "stream",
     "text": [
      "0.708984374931\n"
     ]
    }
   ],
   "source": [
    "maxlbp = lbp_train.max()\n",
    "print(maxlbp)"
   ]
  },
  {
   "cell_type": "code",
   "execution_count": null,
   "metadata": {
    "collapsed": true
   },
   "outputs": [],
   "source": []
  }
 ],
 "metadata": {
  "kernelspec": {
   "display_name": "Python 2",
   "language": "python",
   "name": "python2"
  },
  "language_info": {
   "codemirror_mode": {
    "name": "ipython",
    "version": 2
   },
   "file_extension": ".py",
   "mimetype": "text/x-python",
   "name": "python",
   "nbconvert_exporter": "python",
   "pygments_lexer": "ipython2",
   "version": "2.7.12"
  }
 },
 "nbformat": 4,
 "nbformat_minor": 1
}
