{
 "cells": [
  {
   "cell_type": "code",
   "execution_count": null,
   "metadata": {
    "collapsed": false
   },
   "outputs": [],
   "source": [
    "from __future__ import print_function, division\n",
    "from data_utils import load_CIFAR10\n",
    "\n",
    "X_train, y_train, X_test, y_test = load_CIFAR10(\"cifar-10-batches-py\")\n",
    "\n",
    "print(\"X_train:\", X_train.shape)\n",
    "print(\"y_train:\", y_train.shape)\n",
    "print(\"X_test:\", X_test.shape)\n",
    "print(\"y_test:\", y_test.shape)"
   ]
  },
  {
   "cell_type": "code",
   "execution_count": 5,
   "metadata": {
    "collapsed": false
   },
   "outputs": [
    {
     "name": "stdout",
     "output_type": "stream",
     "text": [
      "(50000, 324)\n",
      "(10000, 324)\n"
     ]
    }
   ],
   "source": [
    "orie = 9\n",
    "ppc = (8,8)\n",
    "cpb = (2,2)\n",
    "\n",
    "import numpy as np\n",
    "from skimage.feature import hog\n",
    "from skimage import color, exposure\n",
    "\n",
    "tmp_train = []\n",
    "for i in xrange(X_train.shape[0]):\n",
    "    gray_img = color.rgb2gray(X_train[i])\n",
    "    fd = hog(gray_img, orientations=orie, pixels_per_cell=ppc,\n",
    "                    cells_per_block=cpb, visualise=False, transform_sqrt=True)\n",
    "    fd = fd[np.newaxis, :]\n",
    "    tmp_train.append(fd)\n",
    "X_train_hog = np.concatenate(tmp_train, axis=0)\n",
    "\n",
    "tmp_test = []\n",
    "for i in xrange(X_test.shape[0]):\n",
    "    gray_img = color.rgb2gray(X_test[i])\n",
    "    fd = hog(gray_img, orientations=orie, pixels_per_cell=ppc,\n",
    "                    cells_per_block=cpb, visualise=False, transform_sqrt=True)\n",
    "    fd = fd[np.newaxis, :]\n",
    "    tmp_test.append(fd)\n",
    "\n",
    "X_test_hog = np.concatenate(tmp_test, axis=0)\n",
    "\n",
    "print(X_train_hog.shape)\n",
    "print(X_test_hog.shape)"
   ]
  },
  {
   "cell_type": "code",
   "execution_count": null,
   "metadata": {
    "collapsed": false
   },
   "outputs": [],
   "source": [
    "# Import datasets, classifiers and performance metrics\n",
    "from sklearn import svm\n",
    "import time\n",
    "# Create a classifier: a support vector classifier\n",
    "classifier = svm.SVC(gamma=0.001)\n",
    "tic = time.time()\n",
    "print(\"dd\")\n",
    "# We learn the digits on the first half of the digits\n",
    "\n",
    "classifier.fit(X_train_hog, y_train)\n",
    "\n",
    "toc_1 = time.time()\n",
    "print(\"time for training: %d seconds\" %(toc_1-tic))\n",
    "\n",
    "preds = bag_clf.predict(X_test_hog)\n",
    "toc_2 = time.time()\n",
    "print(\"time for prediction: %d seconds\" %(toc_2-toc_1))\n",
    "\n",
    "acc = (preds==y_test).mean()\n",
    "print(\"accuracy: \", acc)\n"
   ]
  },
  {
   "cell_type": "code",
   "execution_count": null,
   "metadata": {
    "collapsed": true
   },
   "outputs": [],
   "source": []
  }
 ],
 "metadata": {
  "kernelspec": {
   "display_name": "Python 2",
   "language": "python",
   "name": "python2"
  },
  "language_info": {
   "codemirror_mode": {
    "name": "ipython",
    "version": 2
   },
   "file_extension": ".py",
   "mimetype": "text/x-python",
   "name": "python",
   "nbconvert_exporter": "python",
   "pygments_lexer": "ipython2",
   "version": "2.7.12"
  }
 },
 "nbformat": 4,
 "nbformat_minor": 1
}
