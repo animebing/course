{
 "cells": [
  {
   "cell_type": "code",
   "execution_count": 1,
   "metadata": {
    "collapsed": false
   },
   "outputs": [
    {
     "name": "stdout",
     "output_type": "stream",
     "text": [
      "X_train: (50000, 32, 32, 3)\n",
      "y_train: (50000,)\n",
      "X_test: (10000, 32, 32, 3)\n",
      "y_test: (10000,)\n"
     ]
    }
   ],
   "source": [
    "from __future__ import print_function, division\n",
    "from data_utils import load_CIFAR10\n",
    "\n",
    "X_train, y_train, X_test, y_test = load_CIFAR10(\"cifar-10-batches-py\")\n",
    "\n",
    "print(\"X_train:\", X_train.shape)\n",
    "print(\"y_train:\", y_train.shape)\n",
    "print(\"X_test:\", X_test.shape)\n",
    "print(\"y_test:\", y_test.shape)"
   ]
  },
  {
   "cell_type": "code",
   "execution_count": 5,
   "metadata": {
    "collapsed": false
   },
   "outputs": [
    {
     "name": "stdout",
     "output_type": "stream",
     "text": [
      "(50000, 729)\n",
      "(10000, 729)\n"
     ]
    }
   ],
   "source": [
    "orie = 9\n",
    "ppc = (6,6)\n",
    "cpb = (3,3)\n",
    "\n",
    "import numpy as np\n",
    "from skimage.feature import hog\n",
    "from skimage import color, exposure\n",
    "\n",
    "tmp_train = []\n",
    "for i in xrange(X_train.shape[0]):\n",
    "    gray_img = color.rgb2gray(X_train[i])\n",
    "    fd = hog(gray_img, orientations=orie, pixels_per_cell=ppc,\n",
    "                    cells_per_block=cpb, visualise=False, transform_sqrt=True)\n",
    "    fd = fd[np.newaxis, :]\n",
    "    tmp_train.append(fd)\n",
    "X_train_hog = np.concatenate(tmp_train, axis=0)\n",
    "\n",
    "tmp_test = []\n",
    "for i in xrange(X_test.shape[0]):\n",
    "    gray_img = color.rgb2gray(X_test[i])\n",
    "    fd = hog(gray_img, orientations=orie, pixels_per_cell=ppc,\n",
    "                    cells_per_block=cpb, visualise=False, transform_sqrt=True)\n",
    "    fd = fd[np.newaxis, :]\n",
    "    tmp_test.append(fd)\n",
    "\n",
    "X_test_hog = np.concatenate(tmp_test, axis=0)\n",
    "\n",
    "print(X_train_hog.shape)\n",
    "print(X_test_hog.shape)"
   ]
  },
  {
   "cell_type": "code",
   "execution_count": 6,
   "metadata": {
    "collapsed": false
   },
   "outputs": [
    {
     "name": "stdout",
     "output_type": "stream",
     "text": [
      "time for training: 472 seconds\n",
      "time for prediction: 1 seconds\n",
      "accuracy:  0.516\n"
     ]
    }
   ],
   "source": [
    "from sklearn.ensemble import BaggingClassifier\n",
    "from sklearn import svm\n",
    "import time\n",
    "bag_clf = BaggingClassifier(base_estimator=svm.LinearSVC(), n_estimators=10, max_samples=0.5, max_features=0.5, n_jobs=-1)\n",
    "\n",
    "tic = time.time()\n",
    "bag_clf.fit(X_train_hog, y_train)\n",
    "toc_1 = time.time()\n",
    "print(\"time for training: %d seconds\" %(toc_1-tic))\n",
    "\n",
    "preds = bag_clf.predict(X_test_hog)\n",
    "toc_2 = time.time()\n",
    "print(\"time for prediction: %d seconds\" %(toc_2-toc_1))\n",
    "\n",
    "acc = (preds==y_test).mean()\n",
    "print(\"accuracy: \", acc)\n"
   ]
  },
  {
   "cell_type": "code",
   "execution_count": 8,
   "metadata": {
    "collapsed": false
   },
   "outputs": [
    {
     "name": "stdout",
     "output_type": "stream",
     "text": [
      "accuracy:  0.53352\n"
     ]
    }
   ],
   "source": [
    "preds = bag_clf.predict(X_train_hog)\n",
    "\n",
    "acc = (preds==y_train).mean()\n",
    "print(\"accuracy: \", acc)"
   ]
  },
  {
   "cell_type": "code",
   "execution_count": null,
   "metadata": {
    "collapsed": true
   },
   "outputs": [],
   "source": []
  }
 ],
 "metadata": {
  "kernelspec": {
   "display_name": "Python 2",
   "language": "python",
   "name": "python2"
  },
  "language_info": {
   "codemirror_mode": {
    "name": "ipython",
    "version": 2
   },
   "file_extension": ".py",
   "mimetype": "text/x-python",
   "name": "python",
   "nbconvert_exporter": "python",
   "pygments_lexer": "ipython2",
   "version": "2.7.12"
  }
 },
 "nbformat": 4,
 "nbformat_minor": 1
}
