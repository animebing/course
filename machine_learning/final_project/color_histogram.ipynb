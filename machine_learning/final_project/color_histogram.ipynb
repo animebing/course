{
 "cells": [
  {
   "cell_type": "code",
   "execution_count": 1,
   "metadata": {
    "collapsed": false
   },
   "outputs": [
    {
     "name": "stdout",
     "output_type": "stream",
     "text": [
      "X_train: (50000, 32, 32, 3)\n",
      "y_train: (50000,)\n",
      "X_test: (10000, 32, 32, 3)\n",
      "y_test: (10000,)\n"
     ]
    }
   ],
   "source": [
    "from __future__ import print_function, division\n",
    "from data_utils import load_CIFAR10\n",
    "\n",
    "X_train, y_train, X_test, y_test = load_CIFAR10(\"cifar-10-batches-py\")\n",
    "\n",
    "print(\"X_train:\", X_train.shape)\n",
    "print(\"y_train:\", y_train.shape)\n",
    "print(\"X_test:\", X_test.shape)\n",
    "print(\"y_test:\", y_test.shape)"
   ]
  },
  {
   "cell_type": "code",
   "execution_count": 11,
   "metadata": {
    "collapsed": false
   },
   "outputs": [
    {
     "name": "stdout",
     "output_type": "stream",
     "text": [
      "(50000, 64)\n",
      "(10000, 64)\n"
     ]
    }
   ],
   "source": [
    "import numpy as np\n",
    "\n",
    "data_train = X_train.copy()\n",
    "data_train = data_train.astype('uint8') // 64\n",
    "fea_train = []\n",
    "for i in xrange(data_train.shape[0]):\n",
    "    h = np.zeros((64,))\n",
    "    tmp = data_train[i].reshape(-1, 3)\n",
    "    tmp = tmp[:, 0]*16 + tmp[:, 1]*4 + tmp[:, 2]\n",
    "    uni, cnt = np.unique(tmp, return_counts=True)\n",
    "    h[uni] = cnt\n",
    "    h = h / h.sum()\n",
    "    h = h[np.newaxis, :]\n",
    "    fea_train.append(h)\n",
    "\n",
    "fea_train = np.concatenate(fea_train, axis=0)\n",
    "\n",
    "data_test = X_test.copy()\n",
    "data_test = data_test.astype('uint8') // 64\n",
    "fea_test = []\n",
    "for i in xrange(data_test.shape[0]):\n",
    "    h = np.zeros((64,))\n",
    "    tmp = data_test[i].reshape(-1, 3)\n",
    "    tmp = tmp[:, 0]*16 + tmp[:, 1]*4 + tmp[:, 2]\n",
    "    uni, cnt = np.unique(tmp, return_counts=True)\n",
    "    h[uni] = cnt\n",
    "    h = h / h.sum()\n",
    "    h = h[np.newaxis, :]\n",
    "    fea_test.append(h)\n",
    "\n",
    "fea_test = np.concatenate(fea_test, axis=0)\n",
    "\n",
    "print(fea_train.shape)\n",
    "print(fea_test.shape)"
   ]
  },
  {
   "cell_type": "code",
   "execution_count": 12,
   "metadata": {
    "collapsed": false
   },
   "outputs": [
    {
     "name": "stdout",
     "output_type": "stream",
     "text": [
      "K: 1\n",
      "time for prediction: 4 seconds\n",
      "accuracy:  0.2813\n",
      "K: 3\n",
      "time for prediction: 5 seconds\n",
      "accuracy:  0.2757\n",
      "K: 5\n",
      "time for prediction: 5 seconds\n",
      "accuracy:  0.2993\n",
      "K: 20\n",
      "time for prediction: 6 seconds\n",
      "accuracy:  0.3323\n",
      "K: 50\n",
      "time for prediction: 8 seconds\n",
      "accuracy:  0.3348\n",
      "K: 100\n",
      "time for prediction: 9 seconds\n",
      "accuracy:  0.3343\n",
      "[ 0.2813  0.2757  0.2993  0.3323  0.3348  0.3343]\n"
     ]
    }
   ],
   "source": [
    "from sklearn import neighbors\n",
    "import time \n",
    "\n",
    "group_K = [1, 3, 5, 20, 50, 100]\n",
    "acc = np.zeros((len(group_K),))\n",
    "for i in xrange(len(group_K)):\n",
    "    print(\"K: %d\" %(group_K[i]))\n",
    "    clf = neighbors.KNeighborsClassifier(group_K[i], n_jobs=-1)\n",
    "    clf.fit(fea_train, y_train)\n",
    "    tic = time.time()\n",
    "    preds = clf.predict(fea_test)\n",
    "    toc = time.time()\n",
    "    print(\"time for prediction: %d seconds\" %(toc-tic))\n",
    "\n",
    "    acc[i] = (preds==y_test).mean()\n",
    "    print(\"accuracy: \", acc[i])\n",
    "\n",
    "print(acc)"
   ]
  },
  {
   "cell_type": "code",
   "execution_count": 13,
   "metadata": {
    "collapsed": false
   },
   "outputs": [
    {
     "name": "stdout",
     "output_type": "stream",
     "text": [
      "time for training: 5 seconds\n",
      "time for prediction: 0 seconds\n",
      "accuracy:  0.2788\n"
     ]
    }
   ],
   "source": [
    "from sklearn import svm\n",
    "\n",
    "tic = time.time()\n",
    "lin_clf = svm.LinearSVC() \n",
    "\n",
    "lin_clf.fit(fea_train, y_train)\n",
    "toc_1 = time.time()\n",
    "print(\"time for training: %d seconds\" %(toc_1-tic))\n",
    "\n",
    "preds = lin_clf.predict(fea_test)\n",
    "toc_2 = time.time()\n",
    "print(\"time for prediction: %d seconds\" %(toc_2-toc_1))\n",
    "\n",
    "acc = (preds==y_test).mean()\n",
    "print(\"accuracy: \", acc)"
   ]
  },
  {
   "cell_type": "code",
   "execution_count": 14,
   "metadata": {
    "collapsed": false
   },
   "outputs": [
    {
     "name": "stdout",
     "output_type": "stream",
     "text": [
      "time for training: 9 seconds\n",
      "time for prediction: 0 seconds\n",
      "accuracy:  0.2908\n"
     ]
    }
   ],
   "source": [
    "from sklearn import linear_model\n",
    "\n",
    "tic = time.time()\n",
    "lin_reg = linear_model.LogisticRegression(multi_class='multinomial', n_jobs=-1, solver='sag', max_iter=500)\n",
    "lin_reg.fit(fea_train, y_train)\n",
    "toc_1 = time.time()\n",
    "print(\"time for training: %d seconds\" %(toc_1-tic))\n",
    "\n",
    "preds = lin_reg.predict(fea_test)\n",
    "toc_2 = time.time()\n",
    "print(\"time for prediction: %d seconds\" %(toc_2-toc_1))\n",
    "\n",
    "acc = (preds==y_test).mean()\n",
    "print(\"accuracy: \", acc)"
   ]
  },
  {
   "cell_type": "code",
   "execution_count": 16,
   "metadata": {
    "collapsed": false
   },
   "outputs": [
    {
     "name": "stdout",
     "output_type": "stream",
     "text": [
      "(50000, 512)\n",
      "(10000, 512)\n"
     ]
    }
   ],
   "source": [
    "interv = 32\n",
    "data_train = X_train.copy()\n",
    "data_train = data_train.astype('uint8') // interv\n",
    "base = 256 // interv\n",
    "fea_train = []\n",
    "for i in xrange(data_train.shape[0]):\n",
    "    h = np.zeros((base**3,))\n",
    "    tmp = data_train[i].reshape(-1, 3)\n",
    "    tmp = tmp[:, 0]*base*base + tmp[:, 1]*base + tmp[:, 2]\n",
    "    uni, cnt = np.unique(tmp, return_counts=True)\n",
    "    h[uni] = cnt\n",
    "    h = h / h.sum()\n",
    "    h = h[np.newaxis, :]\n",
    "    fea_train.append(h)\n",
    "\n",
    "fea_train = np.concatenate(fea_train, axis=0)\n",
    "\n",
    "data_test = X_test.copy()\n",
    "data_test = data_test.astype('uint8') // interv\n",
    "fea_test = []\n",
    "for i in xrange(data_test.shape[0]):\n",
    "    h = np.zeros((base**3,))\n",
    "    tmp = data_test[i].reshape(-1, 3)\n",
    "    tmp = tmp[:, 0]*base*base + tmp[:, 1]*base + tmp[:, 2]\n",
    "    uni, cnt = np.unique(tmp, return_counts=True)\n",
    "    h[uni] = cnt\n",
    "    h = h / h.sum()\n",
    "    h = h[np.newaxis, :]\n",
    "    fea_test.append(h)\n",
    "\n",
    "fea_test = np.concatenate(fea_test, axis=0)\n",
    "\n",
    "print(fea_train.shape)\n",
    "print(fea_test.shape)"
   ]
  },
  {
   "cell_type": "code",
   "execution_count": 21,
   "metadata": {
    "collapsed": false
   },
   "outputs": [
    {
     "name": "stdout",
     "output_type": "stream",
     "text": [
      "K: 1\n",
      "time for prediction: 49 seconds\n",
      "accuracy:  0.3178\n",
      "K: 3\n",
      "time for prediction: 56 seconds\n",
      "accuracy:  0.3129\n",
      "K: 5\n",
      "time for prediction: 58 seconds\n",
      "accuracy:  0.3345\n",
      "K: 20\n",
      "time for prediction: 66 seconds\n",
      "accuracy:  0.3516\n",
      "K: 50\n",
      "time for prediction: 71 seconds\n",
      "accuracy:  0.3462\n",
      "K: 100\n",
      "time for prediction: 72 seconds\n",
      "accuracy:  0.3346\n",
      "[ 0.3178  0.3129  0.3345  0.3516  0.3462  0.3346]\n"
     ]
    }
   ],
   "source": [
    "from sklearn import neighbors\n",
    "import time \n",
    "\n",
    "group_K = [1, 3, 5, 20, 50, 100]\n",
    "acc = np.zeros((len(group_K),))\n",
    "for i in xrange(len(group_K)):\n",
    "    print(\"K: %d\" %(group_K[i]))\n",
    "    clf = neighbors.KNeighborsClassifier(group_K[i], n_jobs=-1)\n",
    "    clf.fit(fea_train, y_train)\n",
    "    tic = time.time()\n",
    "    preds = clf.predict(fea_test)\n",
    "    toc = time.time()\n",
    "    print(\"time for prediction: %d seconds\" %(toc-tic))\n",
    "\n",
    "    acc[i] = (preds==y_test).mean()\n",
    "    print(\"accuracy: \", acc[i])\n",
    "\n",
    "print(acc)"
   ]
  },
  {
   "cell_type": "code",
   "execution_count": 22,
   "metadata": {
    "collapsed": false
   },
   "outputs": [
    {
     "name": "stdout",
     "output_type": "stream",
     "text": [
      "time for training: 10 seconds\n",
      "time for prediction: 0 seconds\n",
      "accuracy:  0.2972\n"
     ]
    }
   ],
   "source": [
    "from sklearn import svm\n",
    "\n",
    "tic = time.time()\n",
    "lin_clf = svm.LinearSVC() \n",
    "\n",
    "lin_clf.fit(fea_train, y_train)\n",
    "toc_1 = time.time()\n",
    "print(\"time for training: %d seconds\" %(toc_1-tic))\n",
    "\n",
    "preds = lin_clf.predict(fea_test)\n",
    "toc_2 = time.time()\n",
    "print(\"time for prediction: %d seconds\" %(toc_2-toc_1))\n",
    "\n",
    "acc = (preds==y_test).mean()\n",
    "print(\"accuracy: \", acc)"
   ]
  },
  {
   "cell_type": "code",
   "execution_count": 23,
   "metadata": {
    "collapsed": false
   },
   "outputs": [
    {
     "name": "stdout",
     "output_type": "stream",
     "text": [
      "time for training: 67 seconds\n",
      "time for prediction: 0 seconds\n",
      "accuracy:  0.307\n"
     ]
    }
   ],
   "source": [
    "from sklearn import linear_model\n",
    "\n",
    "tic = time.time()\n",
    "lin_reg = linear_model.LogisticRegression(multi_class='multinomial', n_jobs=-1, solver='sag', max_iter=500)\n",
    "lin_reg.fit(fea_train, y_train)\n",
    "toc_1 = time.time()\n",
    "print(\"time for training: %d seconds\" %(toc_1-tic))\n",
    "\n",
    "preds = lin_reg.predict(fea_test)\n",
    "toc_2 = time.time()\n",
    "print(\"time for prediction: %d seconds\" %(toc_2-toc_1))\n",
    "\n",
    "acc = (preds==y_test).mean()\n",
    "print(\"accuracy: \", acc)"
   ]
  },
  {
   "cell_type": "code",
   "execution_count": null,
   "metadata": {
    "collapsed": true
   },
   "outputs": [],
   "source": []
  }
 ],
 "metadata": {
  "kernelspec": {
   "display_name": "Python 2",
   "language": "python",
   "name": "python2"
  },
  "language_info": {
   "codemirror_mode": {
    "name": "ipython",
    "version": 2
   },
   "file_extension": ".py",
   "mimetype": "text/x-python",
   "name": "python",
   "nbconvert_exporter": "python",
   "pygments_lexer": "ipython2",
   "version": "2.7.12"
  }
 },
 "nbformat": 4,
 "nbformat_minor": 1
}
