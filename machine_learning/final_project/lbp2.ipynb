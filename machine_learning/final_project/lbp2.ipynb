{
 "cells": [
  {
   "cell_type": "code",
   "execution_count": 1,
   "metadata": {
    "collapsed": false
   },
   "outputs": [
    {
     "name": "stdout",
     "output_type": "stream",
     "text": [
      "X_train: (50000, 32, 32, 3)\n",
      "y_train: (50000,)\n",
      "X_test: (10000, 32, 32, 3)\n",
      "y_test: (10000,)\n"
     ]
    }
   ],
   "source": [
    "from __future__ import print_function, division\n",
    "from data_utils import load_CIFAR10\n",
    "\n",
    "X_train, y_train, X_test, y_test = load_CIFAR10(\"cifar-10-batches-py\")\n",
    "\n",
    "print(\"X_train:\", X_train.shape)\n",
    "print(\"y_train:\", y_train.shape)\n",
    "print(\"X_test:\", X_test.shape)\n",
    "print(\"y_test:\", y_test.shape)"
   ]
  },
  {
   "cell_type": "code",
   "execution_count": 19,
   "metadata": {
    "collapsed": false
   },
   "outputs": [
    {
     "name": "stdout",
     "output_type": "stream",
     "text": [
      "(50000, 42)\n",
      "(10000, 42)\n"
     ]
    }
   ],
   "source": [
    "from skimage.feature import local_binary_pattern\n",
    "from skimage import color\n",
    "import numpy as np\n",
    "\n",
    "radius = 3\n",
    "n_points = 8 * radius\n",
    "METHOD = 'uniform'\n",
    "eps = 1e-7\n",
    "\n",
    "lbp_train = []\n",
    "for i in xrange(X_train.shape[0]):\n",
    "    gray_img = color.rgb2gray(X_train[i])\n",
    "    lbp = local_binary_pattern(gray_img, n_points, radius, METHOD)\n",
    "    h, _ = np.histogram(lbp.ravel(),bins=np.arange(0, n_points+3), range=(0, n_points+2),normed=True)\n",
    "    h = h[np.newaxis, :]\n",
    "    lbp_train.append(h)\n",
    "    \n",
    "lbp_train = np.concatenate(lbp_train, axis=0)\n",
    "print(lbp_train.shape)\n",
    "\n",
    "lbp_test = []\n",
    "for i in xrange(X_test.shape[0]):\n",
    "    gray_img = color.rgb2gray(X_test[i])\n",
    "    lbp = local_binary_pattern(gray_img, n_points, radius, METHOD)\n",
    "    h, _ = np.histogram(lbp.ravel(),bins=np.arange(0, n_points+3), range=(0, n_points+2),normed=True)\n",
    "    h = h[np.newaxis, :]\n",
    "    lbp_test.append(h)\n",
    "\n",
    "lbp_test = np.concatenate(lbp_test, axis=0)\n",
    "print(lbp_test.shape)  "
   ]
  },
  {
   "cell_type": "code",
   "execution_count": 9,
   "metadata": {
    "collapsed": false
   },
   "outputs": [
    {
     "name": "stdout",
     "output_type": "stream",
     "text": [
      "time for training: 9 seconds\n",
      "time for prediction: 0 seconds\n",
      "accuracy:  0.2418\n"
     ]
    }
   ],
   "source": [
    "from sklearn import svm\n",
    "import time\n",
    "\n",
    "tic = time.time()\n",
    "lin_clf = svm.LinearSVC() \n",
    "\n",
    "lin_clf.fit(lbp_train, y_train)\n",
    "toc_1 = time.time()\n",
    "print(\"time for training: %d seconds\" %(toc_1-tic))\n",
    "\n",
    "preds = lin_clf.predict(lbp_test)\n",
    "toc_2 = time.time()\n",
    "print(\"time for prediction: %d seconds\" %(toc_2-toc_1))\n",
    "\n",
    "acc = (preds==y_test).mean()\n",
    "print(\"accuracy: \", acc)"
   ]
  },
  {
   "cell_type": "code",
   "execution_count": 18,
   "metadata": {
    "collapsed": false
   },
   "outputs": [
    {
     "name": "stdout",
     "output_type": "stream",
     "text": [
      "time for training: 0 seconds\n",
      "time for prediction: 0 seconds\n",
      "test accuracy:  0.2244\n",
      "train accuracy:  0.97454\n"
     ]
    }
   ],
   "source": [
    "from sklearn.ensemble import RandomForestClassifier\n",
    "import time\n",
    "tic = time.time()\n",
    "rf = RandomForestClassifier(max_depth = 20, n_jobs = -1)\n",
    "rf.fit(lbp_train,y_train)\n",
    "toc_1 = time.time()\n",
    "print(\"time for training: %d seconds\" %(toc_1-tic))\n",
    "\n",
    "preds = rf.predict(lbp_test)\n",
    "toc_2 = time.time()\n",
    "print(\"time for prediction: %d seconds\" %(toc_2-toc_1))\n",
    "\n",
    "acc = (preds==y_test).mean()\n",
    "print(\"test accuracy: \", acc)\n",
    "\n",
    "preds = rf.predict(lbp_train)\n",
    "acc = (preds==y_train).mean()\n",
    "print(\"train accuracy: \", acc)"
   ]
  },
  {
   "cell_type": "code",
   "execution_count": null,
   "metadata": {
    "collapsed": true
   },
   "outputs": [],
   "source": []
  }
 ],
 "metadata": {
  "kernelspec": {
   "display_name": "Python 2",
   "language": "python",
   "name": "python2"
  },
  "language_info": {
   "codemirror_mode": {
    "name": "ipython",
    "version": 2
   },
   "file_extension": ".py",
   "mimetype": "text/x-python",
   "name": "python",
   "nbconvert_exporter": "python",
   "pygments_lexer": "ipython2",
   "version": "2.7.12"
  }
 },
 "nbformat": 4,
 "nbformat_minor": 1
}
