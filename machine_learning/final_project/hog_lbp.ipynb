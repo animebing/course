{
 "cells": [
  {
   "cell_type": "code",
   "execution_count": 1,
   "metadata": {
    "collapsed": true
   },
   "outputs": [],
   "source": [
    "from __future__ import print_function, division\n",
    "from data_utils import load_CIFAR10\n",
    "\n",
    "X_train, y_train, X_test, y_test = load_CIFAR10(\"cifar-10-batches-py\")"
   ]
  },
  {
   "cell_type": "code",
   "execution_count": 3,
   "metadata": {
    "collapsed": false
   },
   "outputs": [
    {
     "name": "stdout",
     "output_type": "stream",
     "text": [
      "(50000, 324)\n",
      "(10000, 324)\n"
     ]
    }
   ],
   "source": [
    "import numpy as np\n",
    "from skimage.feature import hog\n",
    "from skimage import color, exposure\n",
    "\n",
    "orie = 9\n",
    "ppc = (8,8)\n",
    "cpb = (2,2)\n",
    "tmp_train = []\n",
    "for i in xrange(X_train.shape[0]):\n",
    "    gray_img = color.rgb2gray(X_train[i])\n",
    "    fd = hog(gray_img, orientations=orie, pixels_per_cell=ppc,\n",
    "                    cells_per_block=cpb, visualise=False, transform_sqrt=True)\n",
    "    fd = fd[np.newaxis, :]\n",
    "    tmp_train.append(fd)\n",
    "hog_train = np.concatenate(tmp_train, axis=0)\n",
    "\n",
    "tmp_test = []\n",
    "for i in xrange(X_test.shape[0]):\n",
    "    gray_img = color.rgb2gray(X_test[i])\n",
    "    fd = hog(gray_img, orientations=orie, pixels_per_cell=ppc,\n",
    "                    cells_per_block=cpb, visualise=False, transform_sqrt=True)\n",
    "    fd = fd[np.newaxis, :]\n",
    "    tmp_test.append(fd)\n",
    "\n",
    "hog_test= np.concatenate(tmp_test, axis=0)\n",
    "\n",
    "print(hog_train.shape)\n",
    "print(hog_test.shape)"
   ]
  },
  {
   "cell_type": "code",
   "execution_count": 5,
   "metadata": {
    "collapsed": false
   },
   "outputs": [
    {
     "name": "stdout",
     "output_type": "stream",
     "text": [
      "(50000, 26)\n",
      "(10000, 26)\n"
     ]
    }
   ],
   "source": [
    "from skimage.feature import local_binary_pattern\n",
    "\n",
    "radius = 3\n",
    "n_points = 8 * radius\n",
    "METHOD = 'uniform'\n",
    "eps = 1e-7\n",
    "\n",
    "lbp_train = []\n",
    "for i in xrange(X_train.shape[0]):\n",
    "    gray_img = color.rgb2gray(X_train[i])\n",
    "    lbp = local_binary_pattern(gray_img, n_points, radius, METHOD)\n",
    "    h, _ = np.histogram(lbp.ravel(),bins=np.arange(0, n_points+3), range=(0, n_points+2))\n",
    "    h = h / (h.sum()+eps)\n",
    "    h = h[np.newaxis, :]\n",
    "    lbp_train.append(h)\n",
    "    \n",
    "lbp_train = np.concatenate(lbp_train, axis=0)\n",
    "\n",
    "lbp_test = []\n",
    "for i in xrange(X_test.shape[0]):\n",
    "    gray_img = color.rgb2gray(X_test[i])\n",
    "    lbp = local_binary_pattern(gray_img, n_points, radius, METHOD)\n",
    "    h, _ = np.histogram(lbp.ravel(),bins=np.arange(0, n_points+3), range=(0, n_points+2))\n",
    "    h = h / (h.sum()+eps)\n",
    "    h = h[np.newaxis, :]\n",
    "    lbp_test.append(h)\n",
    "\n",
    "lbp_test = np.concatenate(lbp_test, axis=0)\n",
    "\n",
    "print(lbp_train.shape)\n",
    "print(lbp_test.shape)   "
   ]
  },
  {
   "cell_type": "code",
   "execution_count": 6,
   "metadata": {
    "collapsed": false
   },
   "outputs": [
    {
     "name": "stdout",
     "output_type": "stream",
     "text": [
      "(50000, 350)\n",
      "(10000, 350)\n"
     ]
    }
   ],
   "source": [
    "data_train = np.concatenate([hog_train, lbp_train], axis=1)\n",
    "data_test = np.concatenate([hog_test, lbp_test], axis=1)\n",
    "print(data_train.shape)\n",
    "print(data_test.shape)"
   ]
  },
  {
   "cell_type": "code",
   "execution_count": 7,
   "metadata": {
    "collapsed": false
   },
   "outputs": [
    {
     "name": "stdout",
     "output_type": "stream",
     "text": [
      "K: 1\n",
      "time for prediction: 58 seconds\n",
      "accuracy:  0.4606\n",
      "K: 3\n",
      "time for prediction: 64 seconds\n",
      "accuracy:  0.4741\n",
      "K: 5\n",
      "time for prediction: 75 seconds\n",
      "accuracy:  0.4897\n",
      "K: 20\n",
      "time for prediction: 50 seconds\n",
      "accuracy:  0.4969\n",
      "K: 50\n",
      "time for prediction: 77 seconds\n",
      "accuracy:  0.4772\n",
      "K: 100\n",
      "time for prediction: 74 seconds\n",
      "accuracy:  0.4588\n",
      "[ 0.4606  0.4741  0.4897  0.4969  0.4772  0.4588]\n"
     ]
    }
   ],
   "source": [
    "from sklearn import neighbors\n",
    "import time \n",
    "\n",
    "group_K = [1, 3, 5, 20, 50, 100]\n",
    "acc = np.zeros((len(group_K),))\n",
    "for i in xrange(len(group_K)):\n",
    "    print(\"K: %d\" %(group_K[i]))\n",
    "    clf = neighbors.KNeighborsClassifier(group_K[i], n_jobs=-1)\n",
    "    clf.fit(data_train, y_train)\n",
    "    tic = time.time()\n",
    "    preds = clf.predict(data_test)\n",
    "    toc = time.time()\n",
    "    print(\"time for prediction: %d seconds\" %(toc-tic))\n",
    "\n",
    "    acc[i] = (preds==y_test).mean()\n",
    "    print(\"accuracy: \", acc[i])\n",
    "\n",
    "print(acc)"
   ]
  },
  {
   "cell_type": "code",
   "execution_count": 8,
   "metadata": {
    "collapsed": false
   },
   "outputs": [
    {
     "name": "stdout",
     "output_type": "stream",
     "text": [
      "time for training: 24 seconds\n",
      "time for prediction: 0 seconds\n",
      "accuracy:  0.5507\n"
     ]
    }
   ],
   "source": [
    "from sklearn import svm\n",
    "\n",
    "tic = time.time()\n",
    "lin_clf = svm.LinearSVC() \n",
    "\n",
    "lin_clf.fit(data_train, y_train)\n",
    "toc_1 = time.time()\n",
    "print(\"time for training: %d seconds\" %(toc_1-tic))\n",
    "\n",
    "preds = lin_clf.predict(data_test)\n",
    "toc_2 = time.time()\n",
    "print(\"time for prediction: %d seconds\" %(toc_2-toc_1))\n",
    "\n",
    "acc = (preds==y_test).mean()\n",
    "print(\"accuracy: \", acc)"
   ]
  },
  {
   "cell_type": "code",
   "execution_count": 9,
   "metadata": {
    "collapsed": false
   },
   "outputs": [
    {
     "name": "stdout",
     "output_type": "stream",
     "text": [
      "time for training: 24 seconds\n",
      "time for prediction: 0 seconds\n",
      "accuracy:  0.5359\n"
     ]
    }
   ],
   "source": [
    "from sklearn import linear_model\n",
    "\n",
    "tic = time.time()\n",
    "lin_reg = linear_model.LogisticRegression(multi_class='multinomial', n_jobs=-1, solver='sag', max_iter=500)\n",
    "lin_reg.fit(data_train, y_train)\n",
    "toc_1 = time.time()\n",
    "print(\"time for training: %d seconds\" %(toc_1-tic))\n",
    "\n",
    "preds = lin_reg.predict(data_test)\n",
    "toc_2 = time.time()\n",
    "print(\"time for prediction: %d seconds\" %(toc_2-toc_1))\n",
    "\n",
    "acc = (preds==y_test).mean()\n",
    "print(\"accuracy: \", acc)"
   ]
  },
  {
   "cell_type": "code",
   "execution_count": null,
   "metadata": {
    "collapsed": true
   },
   "outputs": [],
   "source": []
  }
 ],
 "metadata": {
  "kernelspec": {
   "display_name": "Python 2",
   "language": "python",
   "name": "python2"
  },
  "language_info": {
   "codemirror_mode": {
    "name": "ipython",
    "version": 2
   },
   "file_extension": ".py",
   "mimetype": "text/x-python",
   "name": "python",
   "nbconvert_exporter": "python",
   "pygments_lexer": "ipython2",
   "version": "2.7.12"
  }
 },
 "nbformat": 4,
 "nbformat_minor": 1
}
