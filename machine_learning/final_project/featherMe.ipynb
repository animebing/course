{
 "cells": [
  {
   "cell_type": "code",
   "execution_count": 1,
   "metadata": {
    "collapsed": false
   },
   "outputs": [
    {
     "name": "stdout",
     "output_type": "stream",
     "text": [
      "X_train: (50000, 32, 32, 3)\n",
      "y_train: (50000,)\n",
      "X_test: (10000, 32, 32, 3)\n",
      "y_test: (10000,)\n"
     ]
    }
   ],
   "source": [
    "from __future__ import print_function, division\n",
    "from data_utils import load_CIFAR10\n",
    "import numpy as np\n",
    "\n",
    "X_train, y_train, X_test, y_test = load_CIFAR10(\"cifar-10-batches-py\")\n",
    "\n",
    "print(\"X_train:\", X_train.shape)\n",
    "print(\"y_train:\", y_train.shape)\n",
    "print(\"X_test:\", X_test.shape)\n",
    "print(\"y_test:\", y_test.shape)"
   ]
  },
  {
   "cell_type": "code",
   "execution_count": 2,
   "metadata": {
    "collapsed": false
   },
   "outputs": [
    {
     "name": "stdout",
     "output_type": "stream",
     "text": [
      "(50000, 288)\n",
      "(10000, 288)\n"
     ]
    }
   ],
   "source": [
    "from skimage.feature import hog\n",
    "from skimage import data, color, exposure\n",
    "import matplotlib.pyplot as plt\n",
    "\n",
    "tmp_train = []\n",
    "for i in xrange(X_train.shape[0]):\n",
    "    gray_img = color.rgb2gray(X_train[i])\n",
    "    fd, _ = hog(gray_img, orientations=8, pixels_per_cell=(8, 8),\n",
    "                    cells_per_block=(2, 2), visualise=True, transform_sqrt=False)\n",
    "    fd = fd[np.newaxis, :]\n",
    "    tmp_train.append(fd)\n",
    "\n",
    "X_train = np.concatenate(tmp_train, axis=0)\n",
    "\n",
    "tmp_test = []\n",
    "for i in xrange(X_test.shape[0]):\n",
    "    gray_img = color.rgb2gray(X_test[i])\n",
    "    fd, _ = hog(gray_img, orientations=8, pixels_per_cell=(8, 8),\n",
    "                    cells_per_block=(2, 2), visualise=True, transform_sqrt=False)\n",
    "    fd = fd[np.newaxis, :]\n",
    "    tmp_test.append(fd)\n",
    "\n",
    "X_test = np.concatenate(tmp_test, axis=0)\n",
    "\n",
    "print(X_train.shape)\n",
    "print(X_test.shape)\n"
   ]
  },
  {
   "cell_type": "code",
   "execution_count": 5,
   "metadata": {
    "collapsed": false
   },
   "outputs": [
    {
     "name": "stdout",
     "output_type": "stream",
     "text": [
      "K: 1\n",
      "time for prediction: 87 seconds\n",
      "accuracy:  0.4347\n",
      "K: 5\n",
      "time for prediction: 91 seconds\n",
      "accuracy:  0.4518\n",
      "K: 20\n",
      "time for prediction: 91 seconds\n",
      "accuracy:  0.4502\n",
      "K: 50\n",
      "time for prediction: 91 seconds\n",
      "accuracy:  0.4317\n",
      "K: 100\n",
      "time for prediction: 83 seconds\n",
      "accuracy:  0.4107\n",
      "[ 0.4347  0.4518  0.4502  0.4317  0.4107]\n"
     ]
    }
   ],
   "source": [
    "from sklearn import neighbors\n",
    "import time \n",
    "\n",
    "group_K = [1, 5, 20, 50, 100]\n",
    "acc = np.zeros((len(group_K),))\n",
    "for i in xrange(len(group_K)):\n",
    "    print(\"K: %d\" %(group_K[i]))\n",
    "    clf = neighbors.KNeighborsClassifier(group_K[i], n_jobs=-1)\n",
    "    clf.fit(X_train, y_train)\n",
    "    tic = time.time()\n",
    "    preds = clf.predict(X_test)\n",
    "    toc = time.time()\n",
    "    print(\"time for prediction: %d seconds\" %(toc-tic))\n",
    "\n",
    "    acc[i] = (preds==y_test).mean()\n",
    "    print(\"accuracy: \", acc[i])\n",
    "\n",
    "print(acc)"
   ]
  },
  {
   "cell_type": "code",
   "execution_count": 6,
   "metadata": {
    "collapsed": false
   },
   "outputs": [
    {
     "name": "stdout",
     "output_type": "stream",
     "text": [
      "time for training: 21 seconds\n",
      "time for prediction: 0 seconds\n",
      "accuracy:  0.4957\n"
     ]
    }
   ],
   "source": [
    "from sklearn import linear_model\n",
    "\n",
    "tic = time.time()\n",
    "lin_reg = linear_model.LogisticRegression(multi_class='multinomial', n_jobs=-1, solver='sag', max_iter=500)\n",
    "lin_reg.fit(X_train, y_train)\n",
    "toc_1 = time.time()\n",
    "print(\"time for training: %d seconds\" %(toc_1-tic))\n",
    "\n",
    "preds = lin_reg.predict(X_test)\n",
    "toc_2 = time.time()\n",
    "print(\"time for prediction: %d seconds\" %(toc_2-toc_1))\n",
    "\n",
    "acc = (preds==y_test).mean()\n",
    "print(\"accuracy: \", acc)"
   ]
  },
  {
   "cell_type": "code",
   "execution_count": null,
   "metadata": {
    "collapsed": true
   },
   "outputs": [],
   "source": []
  },
  {
   "cell_type": "code",
   "execution_count": 4,
   "metadata": {
    "collapsed": false
   },
   "outputs": [
    {
     "name": "stdout",
     "output_type": "stream",
     "text": [
      "time for training: 27 seconds\n",
      "time for prediction: 0 seconds\n",
      "accuracy:  0.5005\n"
     ]
    }
   ],
   "source": [
    "from sklearn import svm\n",
    "import time\n",
    "\n",
    "tic = time.time()\n",
    "lin_clf = svm.LinearSVC() \n",
    "\n",
    "lin_clf.fit(X_train, y_train)\n",
    "toc_1 = time.time()\n",
    "print(\"time for training: %d seconds\" %(toc_1-tic))\n",
    "\n",
    "preds = lin_clf.predict(X_test)\n",
    "toc_2 = time.time()\n",
    "print(\"time for prediction: %d seconds\" %(toc_2-toc_1))\n",
    "\n",
    "acc = (preds==y_test).mean()\n",
    "print(\"accuracy: \", acc)"
   ]
  },
  {
   "cell_type": "code",
   "execution_count": 5,
   "metadata": {
    "collapsed": false
   },
   "outputs": [
    {
     "name": "stdout",
     "output_type": "stream",
     "text": [
      "time for training: 1891 seconds\n",
      "time for prediction: 165 seconds\n",
      "accuracy:  0.3812\n"
     ]
    }
   ],
   "source": [
    "from sklearn import svm\n",
    "\n",
    "\n",
    "tic = time.time()\n",
    "lin_clf = svm.SVC() \n",
    "\n",
    "lin_clf.fit(X_train, y_train)\n",
    "toc_1 = time.time()\n",
    "print(\"time for training: %d seconds\" %(toc_1-tic))\n",
    "\n",
    "preds = lin_clf.predict(X_test)\n",
    "toc_2 = time.time()\n",
    "print(\"time for prediction: %d seconds\" %(toc_2-toc_1))\n",
    "\n",
    "acc = (preds==y_test).mean()\n",
    "print(\"accuracy: \", acc)\n"
   ]
  },
  {
   "cell_type": "code",
   "execution_count": null,
   "metadata": {
    "collapsed": true
   },
   "outputs": [],
   "source": []
  }
 ],
 "metadata": {
  "kernelspec": {
   "display_name": "Python 2",
   "language": "python",
   "name": "python2"
  },
  "language_info": {
   "codemirror_mode": {
    "name": "ipython",
    "version": 2
   },
   "file_extension": ".py",
   "mimetype": "text/x-python",
   "name": "python",
   "nbconvert_exporter": "python",
   "pygments_lexer": "ipython2",
   "version": "2.7.12"
  }
 },
 "nbformat": 4,
 "nbformat_minor": 1
}
